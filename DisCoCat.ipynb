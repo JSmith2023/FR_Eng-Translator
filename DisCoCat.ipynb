{
 "cells": [
  {
   "cell_type": "code",
   "execution_count": null,
   "metadata": {},
   "outputs": [],
   "source": [
    "import discopy\n",
    "from discopy.grammar import pregroup\n",
    "\n",
    "# Assuming your file is named 'sentences.txt' and each line is a sentence\n",
    "with open('sentences.txt', 'r') as f:\n",
    "    sentences = f.readlines()\n",
    "\n",
    "# Define your vocabulary (replace with your actual vocabulary)\n",
    "vocabulary = {\n",
    "    'марш': pregroup.noun,\n",
    "    'иди': pregroup.verb,\n",
    "    # ... add all your words\n",
    "}\n",
    "\n",
    "# Define your grammar (replace with your actual grammar rules)\n",
    "grammar = pregroup.grammar\n",
    "\n",
    "for sentence in sentences:\n",
    "    sentence = sentence.strip()  # Remove leading/trailing whitespace\n",
    "    words = sentence.split()  # Split the sentence into words\n",
    "\n",
    "    # Convert words to DiscoPy terms\n",
    "    terms = [vocabulary.get(word, None) for word in words]\n",
    "\n",
    "    # Remove unknown words (or handle them appropriately)\n",
    "    terms = [term for term in terms if term is not None]\n",
    "\n",
    "    # If the sentence is empty after removing unknown words, skip it\n",
    "    if not terms:\n",
    "        continue\n",
    "\n",
    "    # Create a DiscoPy diagram for the sentence\n",
    "    diagram = grammar.diagram(terms)\n",
    "\n",
    "    # Convert the diagram to a quantum circuit (if possible)\n",
    "    try:\n",
    "        circuit = diagram.to_quantum()\n",
    "        print(f\"Sentence: {sentence}\")\n",
    "        print(f\"Circuit: {circuit}\")\n",
    "    except Exception as e:\n",
    "        print(f\"Error converting sentence '{sentence}' to circuit: {e}\")"
   ]
  }
 ],
 "metadata": {
  "language_info": {
   "name": "python"
  }
 },
 "nbformat": 4,
 "nbformat_minor": 2
}
