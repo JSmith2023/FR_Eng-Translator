{
 "cells": [
  {
   "cell_type": "code",
   "execution_count": 5,
   "metadata": {},
   "outputs": [
    {
     "name": "stdout",
     "output_type": "stream",
     "text": [
      "Tagged English sentences saved to: english_tagged.txt\n",
      "Tagged Russian sentences saved to: russian_tagged.txt\n"
     ]
    }
   ],
   "source": [
    "import spacy\n",
    "\n",
    "# Load the English and Russian spaCy models\n",
    "try:\n",
    "    nlp_en = spacy.load(\"en_core_web_sm\")\n",
    "except OSError:\n",
    "    print(\"Downloading English spaCy model...\")\n",
    "    import subprocess\n",
    "    subprocess.run([\"python\", \"-m\", \"spacy\", \"download\", \"en_core_web_sm\"])\n",
    "    nlp_en = spacy.load(\"en_core_web_sm\")\n",
    "\n",
    "try:\n",
    "    nlp_ru = spacy.load(\"ru_core_news_sm\")\n",
    "except OSError:\n",
    "    print(\"Downloading Russian spaCy model...\")\n",
    "    import subprocess\n",
    "    subprocess.run([\"python\", \"-m\", \"spacy\", \"download\", \"ru_core_news_sm\"])\n",
    "    nlp_ru = spacy.load(\"ru_core_news_sm\")\n",
    "\n",
    "\n",
    "def tag_sentence(sentence, language):\n",
    "    if language == \"en\":\n",
    "        doc = nlp_en(sentence)\n",
    "    elif language == \"ru\":\n",
    "        doc = nlp_ru(sentence)\n",
    "    else:\n",
    "        raise ValueError(\"Unsupported language\")\n",
    "\n",
    "    tagged_words = [(token.text, token.pos_) for token in doc]\n",
    "    return tagged_words\n",
    "\n",
    "def process_file(input_filepath, output_filepath, language):\n",
    "    try:\n",
    "        with open(input_filepath, \"r\", encoding=\"utf-8\") as infile, \\\n",
    "                open(output_filepath, \"w\", encoding=\"utf-8\") as outfile:  # Open output file\n",
    "            for line in infile:\n",
    "                sentence = line.strip()\n",
    "                if sentence:\n",
    "                    tagged_sentence = tag_sentence(sentence, language)\n",
    "                    \n",
    "                    outfile.write(f\"{tagged_sentence}\\n\")\n",
    "                    \n",
    "    except FileNotFoundError:\n",
    "        print(f\"Error: File not found at {input_filepath}\")\n",
    "    except Exception as e:\n",
    "        print(f\"An error occurred: {e}\")\n",
    "\n",
    "# Example usage:\n",
    "english_file = \"english.txt\"\n",
    "english_output_file = \"english_tagged.txt\"  # Output file for English\n",
    "russian_file = \"russian.txt\"\n",
    "russian_output_file = \"russian_tagged.txt\"  # Output file for Russian\n",
    "\n",
    "process_file(english_file, english_output_file, \"en\")\n",
    "process_file(russian_file, russian_output_file, \"ru\")\n",
    "\n",
    "print(f\"Tagged English sentences saved to: {english_output_file}\")\n",
    "print(f\"Tagged Russian sentences saved to: {russian_output_file}\")"
   ]
  }
 ],
 "metadata": {
  "kernelspec": {
   "display_name": "Python 3",
   "language": "python",
   "name": "python3"
  },
  "language_info": {
   "codemirror_mode": {
    "name": "ipython",
    "version": 3
   },
   "file_extension": ".py",
   "mimetype": "text/x-python",
   "name": "python",
   "nbconvert_exporter": "python",
   "pygments_lexer": "ipython3",
   "version": "3.12.0"
  }
 },
 "nbformat": 4,
 "nbformat_minor": 2
}
