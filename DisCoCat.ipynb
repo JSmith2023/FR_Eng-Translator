{
 "cells": [
  {
   "cell_type": "code",
   "execution_count": null,
   "metadata": {},
   "outputs": [],
   "source": [
    "import discopy\n",
    "from discopy.grammar import pregroup\n",
    "\n",
    "# Assuming your file is named 'sentences.txt' and each line is a sentence\n",
    "with open('russian_latin.txt', 'r') as f:\n",
    "    sentences = f.readlines()\n",
    "\n",
    "# Define your vocabulary (replace with your actual vocabulary)\n",
    "vocabulary = {\n",
    "    'марш': pregroup.noun,\n",
    "    'иди': pregroup.verb,\n",
    "    # ... add all your words\n",
    "}\n",
    "\n",
    "# Define your grammar (replace with your actual grammar rules)\n",
    "grammar = pregroup.grammar\n",
    "\n",
    "for sentence in sentences:\n",
    "    sentence = sentence.strip()  # Remove leading/trailing whitespace\n",
    "    words = sentence.split()  # Split the sentence into words\n",
    "\n",
    "    # Convert words to DiscoPy terms\n",
    "    terms = [vocabulary.get(word, None) for word in words]\n",
    "\n",
    "    # Remove unknown words (or handle them appropriately)\n",
    "    terms = [term for term in terms if term is not None]\n",
    "\n",
    "    # If the sentence is empty after removing unknown words, skip it\n",
    "    if not terms:\n",
    "        continue\n",
    "\n",
    "    # Create a DiscoPy diagram for the sentence\n",
    "    diagram = grammar.diagram(terms)\n",
    "\n",
    "    # Convert the diagram to a quantum circuit (if possible)\n",
    "    try:\n",
    "        circuit = diagram.to_quantum()\n",
    "        print(f\"Sentence: {sentence}\")\n",
    "        print(f\"Circuit: {circuit}\")\n",
    "    except Exception as e:\n",
    "        print(f\"Error converting sentence '{sentence}' to circuit: {e}\")"
   ]
  },
  {
   "cell_type": "code",
   "execution_count": null,
   "metadata": {},
   "outputs": [],
   "source": [
    "def build_vocabulary(filepath):\n",
    "    with open(filepath, 'r', encoding='utf-8') as file:\n",
    "        sentences = f.readlines()\n",
    "    vocabulary = {}\n",
    "    for sentence in sentences:\n",
    "        sentence = sentence.strip()\n",
    "        words = sentence.split()\n",
    "    for word in words:\n",
    "        word.strip('.,!?\"').lower()\n",
    "        if word:\n",
    "            vocabulary.add(word)\n",
    "    return vocabulary"
   ]
  },
  {
   "cell_type": "code",
   "execution_count": null,
   "metadata": {},
   "outputs": [
    {
     "ename": "FileNotFoundError",
     "evalue": "[Errno 2] No such file or directory: 'filepath'",
     "output_type": "error",
     "traceback": [
      "\u001b[1;31m---------------------------------------------------------------------------\u001b[0m",
      "\u001b[1;31mFileNotFoundError\u001b[0m                         Traceback (most recent call last)",
      "Cell \u001b[1;32mIn[9], line 1\u001b[0m\n\u001b[1;32m----> 1\u001b[0m vocabulary \u001b[38;5;241m=\u001b[39m \u001b[43mbuild_vocabulary\u001b[49m\u001b[43m(\u001b[49m\u001b[38;5;124;43m'\u001b[39;49m\u001b[38;5;124;43mrussian_latin.txt\u001b[39;49m\u001b[38;5;124;43m'\u001b[39;49m\u001b[43m)\u001b[49m\n",
      "Cell \u001b[1;32mIn[3], line 2\u001b[0m, in \u001b[0;36mbuild_vocabulary\u001b[1;34m(filepath)\u001b[0m\n\u001b[0;32m      1\u001b[0m \u001b[38;5;28;01mdef\u001b[39;00m \u001b[38;5;21mbuild_vocabulary\u001b[39m(filepath):\n\u001b[1;32m----> 2\u001b[0m     \u001b[38;5;28;01mwith\u001b[39;00m \u001b[38;5;28;43mopen\u001b[39;49m\u001b[43m(\u001b[49m\u001b[38;5;124;43m'\u001b[39;49m\u001b[38;5;124;43mfilepath\u001b[39;49m\u001b[38;5;124;43m'\u001b[39;49m\u001b[43m,\u001b[49m\u001b[43m \u001b[49m\u001b[38;5;124;43m'\u001b[39;49m\u001b[38;5;124;43mr\u001b[39;49m\u001b[38;5;124;43m'\u001b[39;49m\u001b[43m,\u001b[49m\u001b[43m \u001b[49m\u001b[43mencoding\u001b[49m\u001b[38;5;241;43m=\u001b[39;49m\u001b[38;5;124;43m'\u001b[39;49m\u001b[38;5;124;43mutf-8\u001b[39;49m\u001b[38;5;124;43m'\u001b[39;49m\u001b[43m)\u001b[49m \u001b[38;5;28;01mas\u001b[39;00m file:\n\u001b[0;32m      3\u001b[0m         sentences \u001b[38;5;241m=\u001b[39m f\u001b[38;5;241m.\u001b[39mreadlines()\n\u001b[0;32m      4\u001b[0m     vocabulary \u001b[38;5;241m=\u001b[39m {}\n",
      "File \u001b[1;32m~\\AppData\\Roaming\\Python\\Python312\\site-packages\\IPython\\core\\interactiveshell.py:324\u001b[0m, in \u001b[0;36m_modified_open\u001b[1;34m(file, *args, **kwargs)\u001b[0m\n\u001b[0;32m    317\u001b[0m \u001b[38;5;28;01mif\u001b[39;00m file \u001b[38;5;129;01min\u001b[39;00m {\u001b[38;5;241m0\u001b[39m, \u001b[38;5;241m1\u001b[39m, \u001b[38;5;241m2\u001b[39m}:\n\u001b[0;32m    318\u001b[0m     \u001b[38;5;28;01mraise\u001b[39;00m \u001b[38;5;167;01mValueError\u001b[39;00m(\n\u001b[0;32m    319\u001b[0m         \u001b[38;5;124mf\u001b[39m\u001b[38;5;124m\"\u001b[39m\u001b[38;5;124mIPython won\u001b[39m\u001b[38;5;124m'\u001b[39m\u001b[38;5;124mt let you open fd=\u001b[39m\u001b[38;5;132;01m{\u001b[39;00mfile\u001b[38;5;132;01m}\u001b[39;00m\u001b[38;5;124m by default \u001b[39m\u001b[38;5;124m\"\u001b[39m\n\u001b[0;32m    320\u001b[0m         \u001b[38;5;124m\"\u001b[39m\u001b[38;5;124mas it is likely to crash IPython. If you know what you are doing, \u001b[39m\u001b[38;5;124m\"\u001b[39m\n\u001b[0;32m    321\u001b[0m         \u001b[38;5;124m\"\u001b[39m\u001b[38;5;124myou can use builtins\u001b[39m\u001b[38;5;124m'\u001b[39m\u001b[38;5;124m open.\u001b[39m\u001b[38;5;124m\"\u001b[39m\n\u001b[0;32m    322\u001b[0m     )\n\u001b[1;32m--> 324\u001b[0m \u001b[38;5;28;01mreturn\u001b[39;00m \u001b[43mio_open\u001b[49m\u001b[43m(\u001b[49m\u001b[43mfile\u001b[49m\u001b[43m,\u001b[49m\u001b[43m \u001b[49m\u001b[38;5;241;43m*\u001b[39;49m\u001b[43margs\u001b[49m\u001b[43m,\u001b[49m\u001b[43m \u001b[49m\u001b[38;5;241;43m*\u001b[39;49m\u001b[38;5;241;43m*\u001b[39;49m\u001b[43mkwargs\u001b[49m\u001b[43m)\u001b[49m\n",
      "\u001b[1;31mFileNotFoundError\u001b[0m: [Errno 2] No such file or directory: 'filepath'"
     ]
    }
   ],
   "source": [
    "vocabulary = build_vocabulary('russian_latin.txt')"
   ]
  },
  {
   "cell_type": "code",
   "execution_count": null,
   "metadata": {},
   "outputs": [],
   "source": [
    "\n",
    "if vocabulary is not None:\n",
    "    print(f\"Vocabulary size: {len(vocabulary)}\")\n",
    "    # You can now use the 'vocabulary' set to check if words are present\n",
    "    word_to_check = \"Privet\"\n",
    "    if word_to_check in vocabulary:\n",
    "        print(f\"'{word_to_check}' is in the vocabulary.\")\n",
    "    else:\n",
    "        print(f\"'{word_to_check}' is not in the vocabulary.\")"
   ]
  }
 ],
 "metadata": {
  "kernelspec": {
   "display_name": "Python 3",
   "language": "python",
   "name": "python3"
  },
  "language_info": {
   "codemirror_mode": {
    "name": "ipython",
    "version": 3
   },
   "file_extension": ".py",
   "mimetype": "text/x-python",
   "name": "python",
   "nbconvert_exporter": "python",
   "pygments_lexer": "ipython3",
   "version": "3.12.0"
  }
 },
 "nbformat": 4,
 "nbformat_minor": 2
}
