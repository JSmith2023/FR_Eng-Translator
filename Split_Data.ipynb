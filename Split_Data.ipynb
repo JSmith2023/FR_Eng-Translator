{
 "cells": [
  {
   "cell_type": "code",
   "execution_count": null,
   "metadata": {},
   "outputs": [
    {
     "name": "stdout",
     "output_type": "stream",
     "text": [
      "Sentences extracted and saved to 'english.txt' and 'russian.txt'\n"
     ]
    }
   ],
   "source": [
    "#split original dataset\n",
    "def extract_sentences(input_file, english_file, russian_file):\n",
    "    with open(input_file, 'r', encoding='utf-8') as infile, \\\n",
    "            open(english_file, 'w', encoding='utf-8') as outfile_en, \\\n",
    "            open(russian_file, 'w', encoding='utf-8') as outfile_ru:\n",
    "\n",
    "        for line in infile:\n",
    "            parts = line.strip().split('\\t')\n",
    "            if len(parts) == 3:  # Ensure we have all three parts\n",
    "                english, russian, credits = parts\n",
    "                outfile_en.write(english + '\\n')\n",
    "                outfile_ru.write(russian + '\\n')\n",
    "\n",
    "# Example usage (replace with your actual file names)\n",
    "extract_sentences('rus.txt', 'english.txt', 'russian.txt')\n",
    "print(\"Sentences extracted and saved to 'english.txt' and 'russian.txt'\")"
   ]
  },
  {
   "cell_type": "code",
   "execution_count": 4,
   "metadata": {},
   "outputs": [
    {
     "name": "stdout",
     "output_type": "stream",
     "text": [
      "File processed and saved to 'russian_latin.txt'\n"
     ]
    }
   ],
   "source": [
    "#turn russian to \"renglish\"\n",
    "import re\n",
    "\n",
    "def re_passport_2013(text):\n",
    "    #Transliterates Russian text to Renglish (Passport 2013 version).\n",
    "    translit_map = {\n",
    "        'а': 'a', 'б': 'b', 'в': 'v', 'г': 'g', 'д': 'd', 'е': 'e', 'ё': 'e',\n",
    "        'ж': 'zh', 'з': 'z', 'и': 'i', 'й': 'i', 'к': 'k', 'л': 'l', 'м': 'm',\n",
    "        'н': 'n', 'о': 'o', 'п': 'p', 'р': 'r', 'с': 's', 'т': 't', 'у': 'u',\n",
    "        'ф': 'f', 'х': 'kh', 'ц': 'ts', 'ч': 'ch', 'ш': 'sh', 'щ': 'shch',\n",
    "        'ъ': 'ie', 'ы': 'y', 'ь': '', 'э': 'e', 'ю': 'iu', 'я': 'ia',\n",
    "        'А': 'A', 'Б': 'B', 'В': 'V', 'Г': 'G', 'Д': 'D', 'Е': 'E', 'Ё': 'E',\n",
    "        'Ж': 'Zh', 'З': 'Z', 'И': 'I', 'Й': 'I', 'К': 'K', 'Л': 'L', 'М': 'M',\n",
    "        'Н': 'N', 'О': 'O', 'П': 'P', 'Р': 'R', 'С': 'S', 'Т': 'T', 'У': 'U',\n",
    "        'Ф': 'F', 'Х': 'Kh', 'Ц': 'Ts', 'Ч': 'Ch', 'Ш': 'Sh', 'Щ': 'Shch',\n",
    "        'Ъ': 'Ie', 'Ы': 'Y', 'Ь': '', 'Э': 'E', 'Ю': 'Iu', 'Я': 'Ia',\n",
    "    }\n",
    "\n",
    "    # Apply the transliteration\n",
    "    result = \"\".join(translit_map.get(char, char) for char in text)\n",
    "    return result\n",
    "\n",
    "def process_file(input_file, output_file):\n",
    "    #Processes the input file, transliterates Russian sentences, and saves to the output file.\n",
    "\n",
    "    with open(input_file, 'r', encoding='utf-8') as infile, open(output_file, 'w', encoding='utf-8') as outfile:\n",
    "        for line in infile:\n",
    "            russian = line.strip()\n",
    "            russian_latin = re_passport_2013(russian)\n",
    "            outfile.write(f\"{russian_latin}\\n\")  # Write back with Renglish\n",
    "\n",
    "# Example usage (replace with your file names)\n",
    "process_file('russian.txt', 'russian_latin.txt')\n",
    "print(\"File processed and saved to 'russian_latin.txt'\")"
   ]
  }
 ],
 "metadata": {
  "kernelspec": {
   "display_name": "Python 3",
   "language": "python",
   "name": "python3"
  },
  "language_info": {
   "codemirror_mode": {
    "name": "ipython",
    "version": 3
   },
   "file_extension": ".py",
   "mimetype": "text/x-python",
   "name": "python",
   "nbconvert_exporter": "python",
   "pygments_lexer": "ipython3",
   "version": "3.12.0"
  }
 },
 "nbformat": 4,
 "nbformat_minor": 2
}
