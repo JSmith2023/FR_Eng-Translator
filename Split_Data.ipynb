{
 "cells": [
  {
   "cell_type": "code",
   "execution_count": null,
   "metadata": {},
   "outputs": [
    {
     "name": "stdout",
     "output_type": "stream",
     "text": [
      "Sentences extracted and saved to 'english.txt' and 'russian.txt'\n"
     ]
    }
   ],
   "source": [
    "#split original dataset\n",
    "def extract_sentences(input_file, english_file, russian_file):\n",
    "    with open(input_file, 'r', encoding='utf-8') as infile, \\\n",
    "            open(english_file, 'w', encoding='utf-8') as outfile_en, \\\n",
    "            open(russian_file, 'w', encoding='utf-8') as outfile_ru:\n",
    "\n",
    "        for line in infile:\n",
    "            parts = line.strip().split('\\t')\n",
    "            if len(parts) == 3:  # Ensure we have all three parts\n",
    "                english, russian, credits = parts\n",
    "                outfile_en.write(english + '\\n')\n",
    "                outfile_ru.write(russian + '\\n')\n",
    "\n",
    "# Example usage (replace with your actual file names)\n",
    "extract_sentences('rus.txt', 'english.txt', 'russian.txt')\n",
    "print(\"Sentences extracted and saved to 'english.txt' and 'russian.txt'\")"
   ]
  },
  {
   "cell_type": "code",
   "execution_count": 9,
   "metadata": {},
   "outputs": [
    {
     "name": "stdout",
     "output_type": "stream",
     "text": [
      "File processed and saved to 'russian_latin.txt'\n"
     ]
    }
   ],
   "source": [
    "#turn russian to \"renglish\"\n",
    "import re\n",
    "\n",
    "def re_passport_2013(text):\n",
    "    #Transliterates Russian text to Renglish (Passport 2013 version).\n",
    "    translit_map = {\n",
    "        'а': 'a', 'б': 'b', 'в': 'v', 'г': 'g', 'д': 'd', 'е': 'e', 'ё': 'e',\n",
    "        'ж': 'zh', 'з': 'z', 'и': 'i', 'й': 'i', 'к': 'k', 'л': 'l', 'м': 'm',\n",
    "        'н': 'n', 'о': 'o', 'п': 'p', 'р': 'r', 'с': 's', 'т': 't', 'у': 'u',\n",
    "        'ф': 'f', 'х': 'kh', 'ц': 'ts', 'ч': 'ch', 'ш': 'sh', 'щ': 'shch',\n",
    "        'ъ': 'ie', 'ы': 'y', 'ь': '', 'э': 'e', 'ю': 'iu', 'я': 'ia',\n",
    "        'А': 'A', 'Б': 'B', 'В': 'V', 'Г': 'G', 'Д': 'D', 'Е': 'E', 'Ё': 'E',\n",
    "        'Ж': 'Zh', 'З': 'Z', 'И': 'I', 'Й': 'I', 'К': 'K', 'Л': 'L', 'М': 'M',\n",
    "        'Н': 'N', 'О': 'O', 'П': 'P', 'Р': 'R', 'С': 'S', 'Т': 'T', 'У': 'U',\n",
    "        'Ф': 'F', 'Х': 'Kh', 'Ц': 'Ts', 'Ч': 'Ch', 'Ш': 'Sh', 'Щ': 'Shch',\n",
    "        'Ъ': 'Ie', 'Ы': 'Y', 'Ь': '', 'Э': 'E', 'Ю': 'Iu', 'Я': 'Ia',\n",
    "    }\n",
    "\n",
    "    # Apply the transliteration\n",
    "    result = \"\".join(translit_map.get(char, char) for char in text)\n",
    "    return result\n",
    "\n",
    "def process_file(input_file, output_file):\n",
    "    #Processes the input file, transliterates Russian sentences, and saves to the output file.\n",
    "\n",
    "    with open(input_file, 'r', encoding='utf-8') as infile, open(output_file, 'w', encoding='utf-8') as outfile:\n",
    "        for line in infile:\n",
    "            russian = line.strip()\n",
    "            russian_latin = re_passport_2013(russian)\n",
    "            outfile.write(f\"{russian_latin}\\n\")  # Write back with Renglish\n",
    "\n",
    "# Example usage (replace with your file names)\n",
    "process_file('russian.txt', 'russian_latin.txt')\n",
    "print(\"File processed and saved to 'russian_latin.txt'\")"
   ]
  },
  {
   "cell_type": "code",
   "execution_count": 11,
   "metadata": {},
   "outputs": [
    {
     "name": "stdout",
     "output_type": "stream",
     "text": [
      "Transliterated: Privet, mir!\n",
      "Reverted: Привет, мир!\n",
      "Transliterated: Sieesh eshche etikh miagkikh frantsuzskikh bulok, da vypei chaiu.\n",
      "Reverted: Съеш еще етих мягких французских булок, да выпеи чаю.\n"
     ]
    }
   ],
   "source": [
    "def de_re_passport_2013(text):\n",
    "    \"\"\"\n",
    "    Reverses the transliteration from Renglish (Passport 2013 version) back to Russian.\n",
    "    This function is not a perfect inverse due to some transliterations being ambiguous \n",
    "    (e.g., 'e' can be 'е' or 'э', 'i' can be 'и' or 'й', etc.).  It prioritizes the\n",
    "    more common mappings.  Context would be needed for a truly accurate reversal.\n",
    "    \"\"\"\n",
    "\n",
    "    # Create a reverse mapping (Renglish -> Russian)\n",
    "    reverse_translit_map = {\n",
    "        'a': 'а', 'b': 'б', 'v': 'в', 'g': 'г', 'd': 'д', 'e': 'е', 'zh': 'ж',\n",
    "        'z': 'з', 'i': 'и', 'k': 'к', 'l': 'л', 'm': 'м', 'n': 'н', 'o': 'о',\n",
    "        'p': 'п', 'r': 'р', 's': 'с', 't': 'т', 'u': 'у', 'f': 'ф', 'kh': 'х',\n",
    "        'ts': 'ц', 'ch': 'ч', 'sh': 'ш', 'shch': 'щ', 'ie': 'ъ', 'y': 'ы',\n",
    "        'iu': 'ю', 'ia': 'я',\n",
    "        'A': 'А', 'B': 'Б', 'V': 'В', 'G': 'Г', 'D': 'Д', 'E': 'Е', 'Zh': 'Ж',\n",
    "        'Z': 'З', 'I': 'И', 'K': 'К', 'L': 'Л', 'M': 'М', 'N': 'Н', 'O': 'О',\n",
    "        'P': 'П', 'R': 'Р', 'S': 'С', 'T': 'Т', 'U': 'У', 'F': 'Ф', 'Kh': 'Х',\n",
    "        'Ts': 'Ц', 'Ch': 'Ч', 'Sh': 'Ш', 'Shch': 'Щ', 'Ie': 'Ъ', 'Y': 'Ы',\n",
    "        'Iu': 'Ю', 'Ia': 'Я',\n",
    "        '': ''  # Handle empty strings (from 'ь')\n",
    "    }\n",
    "\n",
    "    result = \"\"\n",
    "    i = 0\n",
    "    while i < len(text):\n",
    "        found = False\n",
    "        # Check for 4-char transliterations first (like 'shch')\n",
    "        if i + 4 <= len(text) and text[i:i+4] in reverse_translit_map:\n",
    "            result += reverse_translit_map[text[i:i+4]]\n",
    "            i += 4\n",
    "            found = True\n",
    "        # Then 3-char (like 'sh')\n",
    "        elif i + 3 <= len(text) and text[i:i+3] in reverse_translit_map:\n",
    "            result += reverse_translit_map[text[i:i+3]]\n",
    "            i += 3\n",
    "            found = True\n",
    "        # Then 2-char (like 'zh')\n",
    "        elif i + 2 <= len(text) and text[i:i+2] in reverse_translit_map:\n",
    "            result += reverse_translit_map[text[i:i+2]]\n",
    "            i += 2\n",
    "            found = True\n",
    "        # Finally, check for 1-char (like 'a')\n",
    "        elif text[i] in reverse_translit_map:\n",
    "            result += reverse_translit_map[text[i]]\n",
    "            i += 1\n",
    "            found = True\n",
    "\n",
    "        if not found:  # If no mapping found, keep the original character\n",
    "            result += text[i]\n",
    "            i += 1\n",
    "\n",
    "    return result\n",
    "\n",
    "\n",
    "# Example usage:\n",
    "russian_text = \"Привет, мир!\"\n",
    "transliterated = re_passport_2013(russian_text)\n",
    "print(f\"Transliterated: {transliterated}\")\n",
    "\n",
    "reverted = de_re_passport_2013(transliterated)\n",
    "print(f\"Reverted: {reverted}\")\n",
    "\n",
    "\n",
    "russian_text_2 = \"Съешь ещё этих мягких французских булок, да выпей чаю.\"\n",
    "transliterated_2 = re_passport_2013(russian_text_2)\n",
    "print(f\"Transliterated: {transliterated_2}\")\n",
    "\n",
    "reverted_2 = de_re_passport_2013(transliterated_2)\n",
    "print(f\"Reverted: {reverted_2}\")"
   ]
  }
 ],
 "metadata": {
  "kernelspec": {
   "display_name": "Python 3",
   "language": "python",
   "name": "python3"
  },
  "language_info": {
   "codemirror_mode": {
    "name": "ipython",
    "version": 3
   },
   "file_extension": ".py",
   "mimetype": "text/x-python",
   "name": "python",
   "nbconvert_exporter": "python",
   "pygments_lexer": "ipython3",
   "version": "3.12.0"
  }
 },
 "nbformat": 4,
 "nbformat_minor": 2
}
