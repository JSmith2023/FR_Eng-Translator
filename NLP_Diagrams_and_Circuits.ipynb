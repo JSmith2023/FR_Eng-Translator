{
 "cells": [
  {
   "cell_type": "code",
   "execution_count": 2,
   "metadata": {},
   "outputs": [
    {
     "name": "stdout",
     "output_type": "stream",
     "text": [
      "Tokenization, Lemmatization and POS tagging complete.\n"
     ]
    }
   ],
   "source": [
    "import spacy\n",
    "\n",
    "# Load spaCy models\n",
    "nlp_en = spacy.load(\"en_core_web_sm\")\n",
    "nlp_ru = spacy.load(\"ru_core_news_sm\")\n",
    "\n",
    "def process_sentences(filename, nlp):\n",
    "    \"\"\"Tokenizes, Lemmatizes, and tags sentences from a file.\"\"\"\n",
    "    processed_data = []\n",
    "    with open(filename, \"r\", encoding=\"utf-8\") as f:\n",
    "        for line in f:\n",
    "            line = line.strip()\n",
    "            if line:  # Skip empty lines\n",
    "                doc = nlp(line)\n",
    "                sentence_data = [(token.lemma_, token.pos_) for token in doc]\n",
    "                processed_data.append(sentence_data)\n",
    "    return processed_data\n",
    "\n",
    "# Process files\n",
    "english_sentences = process_sentences(\"english.txt\", nlp_en)\n",
    "russian_sentences = process_sentences(\"russian.txt\", nlp_ru)\n",
    "\n",
    "#Save the processed data to a file.\n",
    "def save_processed_sentences(data, filename):\n",
    "    with open(filename, \"w\", encoding = \"utf-8\") as f:\n",
    "        for sentence in data:\n",
    "            f.write(str(sentence) + \"\\n\")\n",
    "\n",
    "save_processed_sentences(english_sentences, \"english_tagged.txt\")\n",
    "save_processed_sentences(russian_sentences, \"russian_tagged.txt\")\n",
    "\n",
    "print(\"Tokenization, Lemmatization and POS tagging complete.\")"
   ]
  },
  {
   "cell_type": "code",
   "execution_count": null,
   "metadata": {},
   "outputs": [],
   "source": [
    "from lambeq import BobcatParser, AtomicType, IQPAnsatz\n",
    "import ast\n",
    "import json\n",
    "\n",
    "def load_processed_sentences(filename):\n",
    "    processed_data = []\n",
    "    with open(filename, \"r\", encoding = \"utf-8\") as f:\n",
    "        for line in f:\n",
    "            line = line.strip()\n",
    "            if line:\n",
    "                processed_data.append(ast.literal_eval(line))\n",
    "    return processed_data\n",
    "\n",
    "english_sentences = load_processed_sentences(\"english_tagged.txt\")\n",
    "russian_sentences = load_processed_sentences(\"russian_tagged.txt\")\n",
    "\n",
    "# def create_word_types(data, filename):\n",
    "#     word_types = {}\n",
    "#     for sentence in data:\n",
    "#         for token, pos in sentence:\n",
    "#             if token not in word_types:\n",
    "#                 if pos == \"NOUN\":\n",
    "#                     word_types[token] = \"n\"\n",
    "#                 elif pos == \"VERB\":\n",
    "#                     word_types[token] = \"s\"\n",
    "#                 elif pos == \"ADJ\":\n",
    "#                     word_types[token] = \"adj\"\n",
    "#                 elif pos == \"ADV\":\n",
    "#                     word_types[token] = \"adv\"\n",
    "#                 elif pos == \"PRON\":\n",
    "#                     word_types[token] = \"pron\"\n",
    "#                 elif pos == \"INTJ\":\n",
    "#                     word_types[token] = \"int\"\n",
    "#                 elif pos == \"\"\n",
    "#                 else:\n",
    "#                     word_types[token] = \"?\"\n",
    "#     #save to JSON\n",
    "#     with open(filename, 'w', encoding='utf-8') as f:\n",
    "#         json.dump(word_types, f, ensure_ascii=False, indent=4)\n",
    "#     return\n",
    "\n",
    "# english_word_types = create_word_types(english_sentences, \"English_word.json\")\n",
    "# russian_word_types = create_word_types(russian_sentences, \"Russian_word.json\")\n",
    "\n",
    "parser = BobcatParser(verbose=\"suppress\")\n",
    "\n",
    "def process_data(data):\n",
    "    diagrams = []\n",
    "    for sentences in data:\n",
    "        diagram = parser.sentence2diagram(sentences)\n",
    "        diagrams.append(diagram)\n",
    "    #Define atomic types\n",
    "    N = AtomicType.NOUN\n",
    "    S = AtomicType.SENTENCE\n",
    "    for diagram in diagrams:\n",
    "    #Convert string Diagram to quantum circuit\n",
    "        ansatz = IQPAnsatz({N:1, S:1}, n_layers=2)\n",
    "        russian_circuits=[]\n",
    "        english_circuits=[]\n",
    "        circuit = ansatz(diagram)\n",
    "        if data == \"english.txt\":\n",
    "            english_circuits.append(circuit)\n",
    "        if data == \"russian.txt\":\n",
    "            russian_circuits.append(circuit)\n",
    "    return\n",
    "\n",
    "english_circuits = process_data(\"english.txt\")\n",
    "russian_circuits = process_data(\"russian.txt\")\n"
   ]
  },
  {
   "cell_type": "code",
   "execution_count": 14,
   "metadata": {},
   "outputs": [
    {
     "ename": "TypeError",
     "evalue": "'NoneType' object is not subscriptable",
     "output_type": "error",
     "traceback": [
      "\u001b[1;31m---------------------------------------------------------------------------\u001b[0m",
      "\u001b[1;31mTypeError\u001b[0m                                 Traceback (most recent call last)",
      "Cell \u001b[1;32mIn[14], line 1\u001b[0m\n\u001b[1;32m----> 1\u001b[0m \u001b[38;5;28mprint\u001b[39m(\u001b[43menglish_circuits\u001b[49m\u001b[43m[\u001b[49m\u001b[38;5;241;43m1\u001b[39;49m\u001b[43m]\u001b[49m)\n",
      "\u001b[1;31mTypeError\u001b[0m: 'NoneType' object is not subscriptable"
     ]
    }
   ],
   "source": [
    "print(english_circuits[1])"
   ]
  }
 ],
 "metadata": {
  "kernelspec": {
   "display_name": "Python 3",
   "language": "python",
   "name": "python3"
  },
  "language_info": {
   "codemirror_mode": {
    "name": "ipython",
    "version": 3
   },
   "file_extension": ".py",
   "mimetype": "text/x-python",
   "name": "python",
   "nbconvert_exporter": "python",
   "pygments_lexer": "ipython3",
   "version": "3.12.0"
  }
 },
 "nbformat": 4,
 "nbformat_minor": 2
}
