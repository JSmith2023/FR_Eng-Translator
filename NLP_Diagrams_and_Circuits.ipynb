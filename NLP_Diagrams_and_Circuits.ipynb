{
 "cells": [
  {
   "cell_type": "code",
   "execution_count": 2,
   "metadata": {},
   "outputs": [
    {
     "name": "stdout",
     "output_type": "stream",
     "text": [
      "Tokenization, Lemmatization and POS tagging complete.\n"
     ]
    }
   ],
   "source": [
    "import spacy\n",
    "\n",
    "# Load spaCy models\n",
    "nlp_en = spacy.load(\"en_core_web_sm\")\n",
    "nlp_ru = spacy.load(\"ru_core_news_sm\")\n",
    "\n",
    "def process_sentences(filename, nlp):\n",
    "    \"\"\"Tokenizes, Lemmatizes, and tags sentences from a file.\"\"\"\n",
    "    processed_data = []\n",
    "    with open(filename, \"r\", encoding=\"utf-8\") as f:\n",
    "        for line in f:\n",
    "            line = line.strip()\n",
    "            if line:  # Skip empty lines\n",
    "                doc = nlp(line)\n",
    "                sentence_data = [(token.lemma_, token.pos_) for token in doc]\n",
    "                processed_data.append(sentence_data)\n",
    "    return processed_data\n",
    "\n",
    "# Process files\n",
    "english_sentences = process_sentences(\"english.txt\", nlp_en)\n",
    "russian_sentences = process_sentences(\"russian.txt\", nlp_ru)\n",
    "\n",
    "#Save the processed data to a file.\n",
    "def save_processed_sentences(data, filename):\n",
    "    with open(filename, \"w\", encoding = \"utf-8\") as f:\n",
    "        for sentence in data:\n",
    "            f.write(str(sentence) + \"\\n\")\n",
    "\n",
    "save_processed_sentences(english_sentences, \"english_tagged.txt\")\n",
    "save_processed_sentences(russian_sentences, \"russian_tagged.txt\")\n",
    "\n",
    "print(\"Tokenization, Lemmatization and POS tagging complete.\")"
   ]
  },
  {
   "cell_type": "code",
   "execution_count": null,
   "metadata": {},
   "outputs": [],
   "source": [
    "from lambeq import BobcatParser, SpacyTokeniser, AtomicType, IQPAnsatz, Rewriter\n",
    "\n",
    "parser = BobcatParser(verbose=\"suppress\")\n",
    "tokeniser = SpacyTokeniser()\n",
    "rewriter = Rewriter(['prepositional_phrase', 'determiner'])\n",
    "def process_diagrams(sentences, diagrams):\n",
    "    for sentence in sentences:\n",
    "        try:\n",
    "            #sentence = tokeniser.split_sentences(sentence) #for more complex sentences this will be needed, but breaks single sentence itterances\n",
    "            tokens = tokeniser.tokenise_sentence(sentence)\n",
    "            diagram = parser.sentence2diagram(tokens, tokenised=True)\n",
    "            #rewrite rule for prepositional phrases\n",
    "            rewritten_diagram = rewriter(diagram)\n",
    "            #normalize diagram\n",
    "            normalised_diagram = rewritten_diagram.normal_form() #explore more rewriting ideas\n",
    "            diagrams.append(normalised_diagram)\n",
    "        except Exception as e:\n",
    "            print(f\"Failed to parse: {sentence}\")\n",
    "\n",
    "english_diagrams = []\n",
    "russian_diagrams = []\n",
    "english_sentences = []\n",
    "russian_sentences = []\n",
    "\n",
    "try:\n",
    "    with open(\"english.txt\", \"r\", encoding=\"utf-8\") as f:\n",
    "        for line in f:\n",
    "            english_sentences.append(line.strip())\n",
    "except FileNotFoundError:\n",
    "    print(\"Wrong file name\")\n",
    "except UnicodeDecodeError:\n",
    "    print(\"missed utf-8 encoding\")\n",
    "\n",
    "# try:\n",
    "#     with open(\"russian.txt\", \"r\") as f:\n",
    "#         for line in f:\n",
    "#             russian_sentences.append(line.strip())\n",
    "# except FileNotFoundError:\n",
    "#     print(\"Error: 'russian.txt' not found.\")\n",
    "#\n",
    "# russian_diagrams = process_diagrams(russian_sentences)\n",
    "\n",
    "   #new function here?     \n",
    "    #Define atomic types\n",
    "    #N = AtomicType.NOUN\n",
    "    #S = AtomicType.SENTENCE\n",
    "    #for diagram in diagrams:\n",
    "    #Convert string Diagram to quantum circuit\n",
    "        #ansatz = IQPAnsatz({N:1, S:1}, n_layers=2)\n",
    "        #russian_circuits=[]\n",
    "        #english_circuits=[]\n",
    "        #circuit = ansatz(diagram)\n",
    "       # if data == \"english.txt\":\n",
    "       #  if data == \"russian.txt\":\n",
    "     #       russian_circuits.append(circuit)\n",
    "    #return\n",
    "\n",
    "process_diagrams(english_sentences, english_diagrams)\n",
    "#process_diagrams(\"russian.txt\", russian_diagrams)\n"
   ]
  },
  {
   "cell_type": "code",
   "execution_count": 18,
   "metadata": {},
   "outputs": [
    {
     "ename": "TypeError",
     "evalue": "'NoneType' object is not subscriptable",
     "output_type": "error",
     "traceback": [
      "\u001b[1;31m---------------------------------------------------------------------------\u001b[0m",
      "\u001b[1;31mTypeError\u001b[0m                                 Traceback (most recent call last)",
      "Cell \u001b[1;32mIn[18], line 1\u001b[0m\n\u001b[1;32m----> 1\u001b[0m \u001b[43menglish_diagrams\u001b[49m\u001b[43m[\u001b[49m\u001b[38;5;241;43m0\u001b[39;49m\u001b[43m]\u001b[49m\u001b[38;5;241m.\u001b[39mdraw(figsize\u001b[38;5;241m=\u001b[39m(\u001b[38;5;241m14\u001b[39m,\u001b[38;5;241m3\u001b[39m), fontsize\u001b[38;5;241m=\u001b[39m\u001b[38;5;241m12\u001b[39m)\n",
      "\u001b[1;31mTypeError\u001b[0m: 'NoneType' object is not subscriptable"
     ]
    }
   ],
   "source": [
    "english_diagrams[0].draw(figsize=(14,3), fontsize=12)"
   ]
  }
 ],
 "metadata": {
  "kernelspec": {
   "display_name": "Python 3",
   "language": "python",
   "name": "python3"
  },
  "language_info": {
   "codemirror_mode": {
    "name": "ipython",
    "version": 3
   },
   "file_extension": ".py",
   "mimetype": "text/x-python",
   "name": "python",
   "nbconvert_exporter": "python",
   "pygments_lexer": "ipython3",
   "version": "3.12.0"
  }
 },
 "nbformat": 4,
 "nbformat_minor": 2
}
